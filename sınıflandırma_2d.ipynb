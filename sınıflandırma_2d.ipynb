{
  "nbformat": 4,
  "nbformat_minor": 0,
  "metadata": {
    "colab": {
      "name": "sınıflandırma_2d.ipynb",
      "provenance": [],
      "authorship_tag": "ABX9TyMWmqkpkfQQgYPG3dc61vKo",
      "include_colab_link": true
    },
    "kernelspec": {
      "name": "python3",
      "display_name": "Python 3"
    },
    "language_info": {
      "name": "python"
    }
  },
  "cells": [
    {
      "cell_type": "markdown",
      "metadata": {
        "id": "view-in-github",
        "colab_type": "text"
      },
      "source": [
        "<a href=\"https://colab.research.google.com/github/ZehraElbir/EESEC440/blob/main/s%C4%B1n%C4%B1fland%C4%B1rma_2d.ipynb\" target=\"_parent\"><img src=\"https://colab.research.google.com/assets/colab-badge.svg\" alt=\"Open In Colab\"/></a>"
      ]
    },
    {
      "cell_type": "markdown",
      "metadata": {
        "id": "xQ3MoKNdc2kA"
      },
      "source": [
        "En başta kütüphaneleri dahil ediyoruz.\n",
        "\n",
        "First we import the libraries."
      ]
    },
    {
      "cell_type": "code",
      "metadata": {
        "id": "jZVID90jc7e8"
      },
      "source": [
        "import tensorflow as tf # Google tarafından geliştirilen TF kütüphanesi, en ciddi rakibi Facebook tarfından geliştirilen Pytorch kütüphanesi\n",
        "import matplotlib.pyplot as plt # grafik çizdirmek için\n",
        "import numpy as np # numerical python kütüphanesi\n",
        "import pandas as pd\n",
        "import sys\n",
        "from numpy import random # rasgele veri üretmek için kullanacağımız kütüphane"
      ],
      "execution_count": 1,
      "outputs": []
    },
    {
      "cell_type": "markdown",
      "metadata": {
        "id": "04ZoZ3DgdCS4"
      },
      "source": [
        "Bugün bakacağımız örnekte kendimiz sentetik 2-boyutlu veri üretip ardından bu veriyi etiketleyeceğiz. Üreteceğimiz 2-boyutlu veri toplam n=1000 tane olacak. Bu veri kartezyen koordinat sistemi üzerinde x ve y eksenlerinde -1'den 1'e kadar yer alan aralıkta değer alan rasgele noktalar şeklinde düşünülebilir. Kartezyen koordinat sisteminde x ekseni x1, y ekseni ise x2 isimlendirilecek. Burada x = (x1, x2)T bizim özellik vektörümüz(feature)."
      ]
    },
    {
      "cell_type": "code",
      "metadata": {
        "id": "aW_iEnERdDVY"
      },
      "source": [
        "n = 1000 # veri sayısı n = 20 (n = 1000 bu örnek için iyi bir seçim)\n",
        "x = 2*random.rand(n,2)-1\n",
        "#print(x)\n",
        "#print(x[0,1])"
      ],
      "execution_count": 2,
      "outputs": []
    },
    {
      "cell_type": "markdown",
      "metadata": {
        "id": "W89FvJskdHXR"
      },
      "source": [
        "Rasgele ürettiğimiz veriyi şimdi çizdirelim.\n",
        "\n",
        "Now let's plot the randomly generated 2d data."
      ]
    },
    {
      "cell_type": "code",
      "metadata": {
        "colab": {
          "base_uri": "https://localhost:8080/",
          "height": 312
        },
        "id": "3c4EX5r9dLVP",
        "outputId": "5241bb72-6fbf-4712-c241-5faf27943899"
      },
      "source": [
        "plt.scatter(x[:,0],x[:,1], marker='.', color='b')\n",
        "# plt.legend(loc='upper right')\n",
        "plt.title(\"Generated 2d data\")\n",
        "plt.xlabel(\"x1\")\n",
        "plt.ylabel(\"x2\")"
      ],
      "execution_count": 3,
      "outputs": [
        {
          "output_type": "execute_result",
          "data": {
            "text/plain": [
              "Text(0, 0.5, 'x2')"
            ]
          },
          "metadata": {
            "tags": []
          },
          "execution_count": 3
        },
        {
          "output_type": "display_data",
          "data": {
            "image/png": "[encoded data removed]",
            "text/plain": [
              "<Figure size 432x288 with 1 Axes>"
            ]
          },
          "metadata": {
            "tags": [],
            "needs_background": "light"
          }
        }
      ]
    },
    {
      "cell_type": "markdown",
      "metadata": {
        "id": "IbY4lF8sdSFy"
      },
      "source": [
        "Şimdi hedef verisini (target data) oluşturalım. Yani ürettiğimiz veriyi etiketleyelim (data annotation). Sınıflandırmayı dilediğimiz gibi yapabiliriz bu örnekte. Burada biz birim çember içersinde yer alan noktaları 1, dışında kalan noktaları 0 olarak etiketleyeceğiz."
      ]
    },
    {
      "cell_type": "code",
      "metadata": {
        "id": "0ZX8ZPE9dTRW"
      },
      "source": [
        "t = np.zeros((n,1))\n",
        "#print(t)\n",
        "for i, point in enumerate(x):\n",
        "  if (point[0]**2 + point[1]**2)**(0.5) <= 1:\n",
        "    t[i] = 1\n",
        "#print(\"Güncellenmiş hedef verisini yazdıralım.\")\n",
        "#print(t)"
      ],
      "execution_count": 4,
      "outputs": []
    },
    {
      "cell_type": "markdown",
      "metadata": {
        "id": "reJHqKo_dah9"
      },
      "source": [
        "Şimdi tekrar 2b veriyi görselleştirelim ama bu sefer birim çemberin içinde kalan veriyi (yani 1 etiketine sahip olan noktaları) kırmızı renkte çizdirelim."
      ]
    },
    {
      "cell_type": "code",
      "metadata": {
        "colab": {
          "base_uri": "https://localhost:8080/",
          "height": 312
        },
        "id": "zEajRTWWdbQM",
        "outputId": "fa28e48b-bbed-4ac8-ea2e-0915a49d5101"
      },
      "source": [
        "for i, label in enumerate(t):\n",
        "  if (label):\n",
        "    plt.scatter(x[i,0],x[i,1], marker='.', color='r') # edgecolors='none'\n",
        "  else:\n",
        "    plt.scatter(x[i,0],x[i,1], marker='.', color='b') # edgecolors='none'\n",
        "plt.title(\"Generated 2d data\")\n",
        "plt.xlabel(\"x1\")\n",
        "plt.ylabel(\"x2\")"
      ],
      "execution_count": 5,
      "outputs": [
        {
          "output_type": "execute_result",
          "data": {
            "text/plain": [
              "Text(0, 0.5, 'x2')"
            ]
          },
          "metadata": {
            "tags": []
          },
          "execution_count": 5
        },
        {
          "output_type": "display_data",
          "data": {
            "image/png": "[encoded data removed]",
            "text/plain": [
              "<Figure size 432x288 with 1 Axes>"
            ]
          },
          "metadata": {
            "tags": [],
            "needs_background": "light"
          }
        }
      ]
    },
    {
      "cell_type": "markdown",
      "metadata": {
        "id": "ji9EL1n8dkjz"
      },
      "source": [
        "TF kütüphanesinin içerisinde yer alan Keras kütüphanesiyle bir tane çok katmanlı sinir ağı (multi-layer perceptron - MLP) oluşturalım. Giriş sayısının iki, çıkış sayısının bir olduğunu, gizli katman (hidden layer) sayısını ve bu katmanlardaki nöron sayısını (number of neurons) ve de hangi aktivasyon fonksiyonunu (activation function) kullandığımızı adım adım seçeceğiz."
      ]
    },
    {
      "cell_type": "code",
      "metadata": {
        "id": "24iXm_ttdlP4"
      },
      "source": [
        "model = tf.keras.models.Sequential(layers=None, name='2d_classifier_MLP')\n",
        "model.add(tf.keras.layers.Dense(20, input_dim = 2, activation = 'tanh', name='HL1'))\n",
        "model.add(tf.keras.layers.Dense(30, activation = 'tanh', name='HL2'))\n",
        "model.add(tf.keras.layers.Dense(40, activation = 'tanh', name='HL3'))\n",
        "model.add(tf.keras.layers.Dense(30, activation = 'tanh', name='HL4'))\n",
        "model.add(tf.keras.layers.Dense(1, activation = 'tanh', name='outputLayer'))"
      ],
      "execution_count": 6,
      "outputs": []
    },
    {
      "cell_type": "markdown",
      "metadata": {
        "id": "mGI8GjvWdurA"
      },
      "source": [
        "Yukarıdaki kodda yapay sinir ağımızın yapısını (structure) yani katman sayısı, katmanlardaki nöron miktarı, nöron çıkışlarında kullanılan aktivasyon fonksiyon tiplerini belirledik. Bir sonraki adım olarak öğrenme (learning) işlemini başlatacağız. Şimdi öğrenme işleminin nasıl olacağını belirleyelim."
      ]
    },
    {
      "cell_type": "code",
      "metadata": {
        "colab": {
          "base_uri": "https://localhost:8080/"
        },
        "id": "J5-xf7pXdvWG",
        "outputId": "add13f78-80f4-489a-ec1d-39052b948c87"
      },
      "source": [
        "model.compile(optimizer='adam', loss='mean_squared_error', metrics='accuracy')\n",
        "model.summary()"
      ],
      "execution_count": 7,
      "outputs": [
        {
          "output_type": "stream",
          "text": [
            "Model: \"2d_classifier_MLP\"\n",
            "_________________________________________________________________\n",
            "Layer (type)                 Output Shape              Param #   \n",
            "=================================================================\n",
            "HL1 (Dense)                  (None, 20)                60        \n",
            "_________________________________________________________________\n",
            "HL2 (Dense)                  (None, 30)                630       \n",
            "_________________________________________________________________\n",
            "HL3 (Dense)                  (None, 40)                1240      \n",
            "_________________________________________________________________\n",
            "HL4 (Dense)                  (None, 30)                1230      \n",
            "_________________________________________________________________\n",
            "outputLayer (Dense)          (None, 1)                 31        \n",
            "=================================================================\n",
            "Total params: 3,191\n",
            "Trainable params: 3,191\n",
            "Non-trainable params: 0\n",
            "_________________________________________________________________\n"
          ],
          "name": "stdout"
        }
      ]
    },
    {
      "cell_type": "markdown",
      "metadata": {
        "id": "8cV_lw2Pd2jD"
      },
      "source": [
        "Son olarak konfigürasyonunu tamamladığımız çok katmanlı yapay sinir ağının eğitimini başlatıyoruz."
      ]
    },
    {
      "cell_type": "code",
      "metadata": {
        "colab": {
          "base_uri": "https://localhost:8080/"
        },
        "id": "e4ldMKg2d6Cg",
        "outputId": "8401da5b-a56f-41b7-86af-7dc8a6166191"
      },
      "source": [
        "history = model.fit(x, t, epochs=200, verbose=1, validation_split=0.2)"
      ],
      "execution_count": 8,
      "outputs": [
        {
          "output_type": "stream",
          "text": [
            "Epoch 1/200\n",
            "25/25 [==============================] - 1s 22ms/step - loss: 0.6054 - accuracy: 0.2277 - val_loss: 0.1916 - val_accuracy: 0.7900\n",
            "Epoch 2/200\n",
            "25/25 [==============================] - 0s 3ms/step - loss: 0.1763 - accuracy: 0.7808 - val_loss: 0.1740 - val_accuracy: 0.7700\n",
            "Epoch 3/200\n",
            "25/25 [==============================] - 0s 3ms/step - loss: 0.1691 - accuracy: 0.7807 - val_loss: 0.1678 - val_accuracy: 0.7700\n",
            "Epoch 4/200\n",
            "25/25 [==============================] - 0s 3ms/step - loss: 0.1652 - accuracy: 0.7751 - val_loss: 0.1649 - val_accuracy: 0.7700\n",
            "Epoch 5/200\n",
            "25/25 [==============================] - 0s 4ms/step - loss: 0.1636 - accuracy: 0.7846 - val_loss: 0.1682 - val_accuracy: 0.7700\n",
            "Epoch 6/200\n",
            "25/25 [==============================] - 0s 4ms/step - loss: 0.1602 - accuracy: 0.7863 - val_loss: 0.1615 - val_accuracy: 0.7700\n",
            "Epoch 7/200\n",
            "25/25 [==============================] - 0s 3ms/step - loss: 0.1570 - accuracy: 0.7752 - val_loss: 0.1554 - val_accuracy: 0.7700\n",
            "Epoch 8/200\n",
            "25/25 [==============================] - 0s 3ms/step - loss: 0.1429 - accuracy: 0.7996 - val_loss: 0.1517 - val_accuracy: 0.7700\n",
            "Epoch 9/200\n",
            "25/25 [==============================] - 0s 3ms/step - loss: 0.1447 - accuracy: 0.7894 - val_loss: 0.1497 - val_accuracy: 0.8000\n",
            "Epoch 10/200\n",
            "25/25 [==============================] - 0s 3ms/step - loss: 0.1389 - accuracy: 0.8077 - val_loss: 0.1441 - val_accuracy: 0.7800\n",
            "Epoch 11/200\n",
            "25/25 [==============================] - 0s 3ms/step - loss: 0.1378 - accuracy: 0.7964 - val_loss: 0.1370 - val_accuracy: 0.8050\n",
            "Epoch 12/200\n",
            "25/25 [==============================] - 0s 3ms/step - loss: 0.1279 - accuracy: 0.8161 - val_loss: 0.1291 - val_accuracy: 0.8300\n",
            "Epoch 13/200\n",
            "25/25 [==============================] - 0s 4ms/step - loss: 0.1110 - accuracy: 0.8535 - val_loss: 0.1239 - val_accuracy: 0.8400\n",
            "Epoch 14/200\n",
            "25/25 [==============================] - 0s 4ms/step - loss: 0.1099 - accuracy: 0.8573 - val_loss: 0.1126 - val_accuracy: 0.8500\n",
            "Epoch 15/200\n",
            "25/25 [==============================] - 0s 3ms/step - loss: 0.1126 - accuracy: 0.8515 - val_loss: 0.1083 - val_accuracy: 0.8200\n",
            "Epoch 16/200\n",
            "25/25 [==============================] - 0s 4ms/step - loss: 0.1041 - accuracy: 0.8421 - val_loss: 0.0981 - val_accuracy: 0.8650\n",
            "Epoch 17/200\n",
            "25/25 [==============================] - 0s 3ms/step - loss: 0.0870 - accuracy: 0.8893 - val_loss: 0.0914 - val_accuracy: 0.8800\n",
            "Epoch 18/200\n",
            "25/25 [==============================] - 0s 3ms/step - loss: 0.0920 - accuracy: 0.9041 - val_loss: 0.0881 - val_accuracy: 0.8550\n",
            "Epoch 19/200\n",
            "25/25 [==============================] - 0s 3ms/step - loss: 0.0798 - accuracy: 0.8964 - val_loss: 0.0811 - val_accuracy: 0.9200\n",
            "Epoch 20/200\n",
            "25/25 [==============================] - 0s 3ms/step - loss: 0.0731 - accuracy: 0.9210 - val_loss: 0.0846 - val_accuracy: 0.8450\n",
            "Epoch 21/200\n",
            "25/25 [==============================] - 0s 3ms/step - loss: 0.0828 - accuracy: 0.8953 - val_loss: 0.0725 - val_accuracy: 0.9400\n",
            "Epoch 22/200\n",
            "25/25 [==============================] - 0s 3ms/step - loss: 0.0718 - accuracy: 0.9246 - val_loss: 0.0763 - val_accuracy: 0.8800\n",
            "Epoch 23/200\n",
            "25/25 [==============================] - 0s 3ms/step - loss: 0.0717 - accuracy: 0.9123 - val_loss: 0.0798 - val_accuracy: 0.8750\n",
            "Epoch 24/200\n",
            "25/25 [==============================] - 0s 3ms/step - loss: 0.0634 - accuracy: 0.9282 - val_loss: 0.0660 - val_accuracy: 0.9300\n",
            "Epoch 25/200\n",
            "25/25 [==============================] - 0s 3ms/step - loss: 0.0659 - accuracy: 0.9269 - val_loss: 0.0691 - val_accuracy: 0.9200\n",
            "Epoch 26/200\n",
            "25/25 [==============================] - 0s 3ms/step - loss: 0.0541 - accuracy: 0.9421 - val_loss: 0.0647 - val_accuracy: 0.9200\n",
            "Epoch 27/200\n",
            "25/25 [==============================] - 0s 3ms/step - loss: 0.0612 - accuracy: 0.9350 - val_loss: 0.0617 - val_accuracy: 0.9150\n",
            "Epoch 28/200\n",
            "25/25 [==============================] - 0s 3ms/step - loss: 0.0548 - accuracy: 0.9381 - val_loss: 0.0652 - val_accuracy: 0.9200\n",
            "Epoch 29/200\n",
            "25/25 [==============================] - 0s 4ms/step - loss: 0.0544 - accuracy: 0.9428 - val_loss: 0.0611 - val_accuracy: 0.9350\n",
            "Epoch 30/200\n",
            "25/25 [==============================] - 0s 3ms/step - loss: 0.0581 - accuracy: 0.9278 - val_loss: 0.0583 - val_accuracy: 0.9300\n",
            "Epoch 31/200\n",
            "25/25 [==============================] - 0s 3ms/step - loss: 0.0613 - accuracy: 0.9194 - val_loss: 0.0585 - val_accuracy: 0.9350\n",
            "Epoch 32/200\n",
            "25/25 [==============================] - 0s 3ms/step - loss: 0.0548 - accuracy: 0.9405 - val_loss: 0.0633 - val_accuracy: 0.9200\n",
            "Epoch 33/200\n",
            "25/25 [==============================] - 0s 3ms/step - loss: 0.0548 - accuracy: 0.9393 - val_loss: 0.0561 - val_accuracy: 0.9350\n",
            "Epoch 34/200\n",
            "25/25 [==============================] - 0s 3ms/step - loss: 0.0445 - accuracy: 0.9550 - val_loss: 0.0620 - val_accuracy: 0.9150\n",
            "Epoch 35/200\n",
            "25/25 [==============================] - 0s 3ms/step - loss: 0.0526 - accuracy: 0.9367 - val_loss: 0.0583 - val_accuracy: 0.9350\n",
            "Epoch 36/200\n",
            "25/25 [==============================] - 0s 3ms/step - loss: 0.0494 - accuracy: 0.9512 - val_loss: 0.0550 - val_accuracy: 0.9400\n",
            "Epoch 37/200\n",
            "25/25 [==============================] - 0s 3ms/step - loss: 0.0506 - accuracy: 0.9341 - val_loss: 0.0647 - val_accuracy: 0.9200\n",
            "Epoch 38/200\n",
            "25/25 [==============================] - 0s 3ms/step - loss: 0.0526 - accuracy: 0.9377 - val_loss: 0.0554 - val_accuracy: 0.9300\n",
            "Epoch 39/200\n",
            "25/25 [==============================] - 0s 3ms/step - loss: 0.0517 - accuracy: 0.9403 - val_loss: 0.0578 - val_accuracy: 0.9250\n",
            "Epoch 40/200\n",
            "25/25 [==============================] - 0s 3ms/step - loss: 0.0518 - accuracy: 0.9340 - val_loss: 0.0590 - val_accuracy: 0.9400\n",
            "Epoch 41/200\n",
            "25/25 [==============================] - 0s 4ms/step - loss: 0.0505 - accuracy: 0.9381 - val_loss: 0.0536 - val_accuracy: 0.9400\n",
            "Epoch 42/200\n",
            "25/25 [==============================] - 0s 3ms/step - loss: 0.0481 - accuracy: 0.9407 - val_loss: 0.0514 - val_accuracy: 0.9400\n",
            "Epoch 43/200\n",
            "25/25 [==============================] - 0s 3ms/step - loss: 0.0495 - accuracy: 0.9496 - val_loss: 0.0502 - val_accuracy: 0.9450\n",
            "Epoch 44/200\n",
            "25/25 [==============================] - 0s 3ms/step - loss: 0.0519 - accuracy: 0.9395 - val_loss: 0.0568 - val_accuracy: 0.9300\n",
            "Epoch 45/200\n",
            "25/25 [==============================] - 0s 3ms/step - loss: 0.0544 - accuracy: 0.9360 - val_loss: 0.0594 - val_accuracy: 0.9200\n",
            "Epoch 46/200\n",
            "25/25 [==============================] - 0s 4ms/step - loss: 0.0551 - accuracy: 0.9256 - val_loss: 0.0626 - val_accuracy: 0.9150\n",
            "Epoch 47/200\n",
            "25/25 [==============================] - 0s 3ms/step - loss: 0.0554 - accuracy: 0.9329 - val_loss: 0.0558 - val_accuracy: 0.9350\n",
            "Epoch 48/200\n",
            "25/25 [==============================] - 0s 3ms/step - loss: 0.0591 - accuracy: 0.9141 - val_loss: 0.0494 - val_accuracy: 0.9400\n",
            "Epoch 49/200\n",
            "25/25 [==============================] - 0s 3ms/step - loss: 0.0495 - accuracy: 0.9467 - val_loss: 0.0557 - val_accuracy: 0.9300\n",
            "Epoch 50/200\n",
            "25/25 [==============================] - 0s 3ms/step - loss: 0.0508 - accuracy: 0.9395 - val_loss: 0.0540 - val_accuracy: 0.9200\n",
            "Epoch 51/200\n",
            "25/25 [==============================] - 0s 3ms/step - loss: 0.0550 - accuracy: 0.9422 - val_loss: 0.0497 - val_accuracy: 0.9350\n",
            "Epoch 52/200\n",
            "25/25 [==============================] - 0s 3ms/step - loss: 0.0498 - accuracy: 0.9501 - val_loss: 0.0610 - val_accuracy: 0.9250\n",
            "Epoch 53/200\n",
            "25/25 [==============================] - 0s 3ms/step - loss: 0.0528 - accuracy: 0.9386 - val_loss: 0.0493 - val_accuracy: 0.9400\n",
            "Epoch 54/200\n",
            "25/25 [==============================] - 0s 3ms/step - loss: 0.0491 - accuracy: 0.9464 - val_loss: 0.0536 - val_accuracy: 0.9300\n",
            "Epoch 55/200\n",
            "25/25 [==============================] - 0s 3ms/step - loss: 0.0478 - accuracy: 0.9491 - val_loss: 0.0516 - val_accuracy: 0.9250\n",
            "Epoch 56/200\n",
            "25/25 [==============================] - 0s 3ms/step - loss: 0.0514 - accuracy: 0.9277 - val_loss: 0.0521 - val_accuracy: 0.9300\n",
            "Epoch 57/200\n",
            "25/25 [==============================] - 0s 3ms/step - loss: 0.0478 - accuracy: 0.9486 - val_loss: 0.0487 - val_accuracy: 0.9400\n",
            "Epoch 58/200\n",
            "25/25 [==============================] - 0s 3ms/step - loss: 0.0417 - accuracy: 0.9538 - val_loss: 0.0520 - val_accuracy: 0.9350\n",
            "Epoch 59/200\n",
            "25/25 [==============================] - 0s 3ms/step - loss: 0.0460 - accuracy: 0.9480 - val_loss: 0.0488 - val_accuracy: 0.9500\n",
            "Epoch 60/200\n",
            "25/25 [==============================] - 0s 3ms/step - loss: 0.0437 - accuracy: 0.9548 - val_loss: 0.0544 - val_accuracy: 0.9350\n",
            "Epoch 61/200\n",
            "25/25 [==============================] - 0s 3ms/step - loss: 0.0442 - accuracy: 0.9483 - val_loss: 0.0480 - val_accuracy: 0.9450\n",
            "Epoch 62/200\n",
            "25/25 [==============================] - 0s 3ms/step - loss: 0.0412 - accuracy: 0.9631 - val_loss: 0.0482 - val_accuracy: 0.9450\n",
            "Epoch 63/200\n",
            "25/25 [==============================] - 0s 3ms/step - loss: 0.0483 - accuracy: 0.9493 - val_loss: 0.0459 - val_accuracy: 0.9450\n",
            "Epoch 64/200\n",
            "25/25 [==============================] - 0s 3ms/step - loss: 0.0366 - accuracy: 0.9611 - val_loss: 0.0485 - val_accuracy: 0.9300\n",
            "Epoch 65/200\n",
            "25/25 [==============================] - 0s 3ms/step - loss: 0.0496 - accuracy: 0.9324 - val_loss: 0.0512 - val_accuracy: 0.9250\n",
            "Epoch 66/200\n",
            "25/25 [==============================] - 0s 3ms/step - loss: 0.0433 - accuracy: 0.9613 - val_loss: 0.0449 - val_accuracy: 0.9600\n",
            "Epoch 67/200\n",
            "25/25 [==============================] - 0s 3ms/step - loss: 0.0448 - accuracy: 0.9459 - val_loss: 0.0440 - val_accuracy: 0.9500\n",
            "Epoch 68/200\n",
            "25/25 [==============================] - 0s 3ms/step - loss: 0.0477 - accuracy: 0.9460 - val_loss: 0.0481 - val_accuracy: 0.9300\n",
            "Epoch 69/200\n",
            "25/25 [==============================] - 0s 3ms/step - loss: 0.0399 - accuracy: 0.9647 - val_loss: 0.0507 - val_accuracy: 0.9350\n",
            "Epoch 70/200\n",
            "25/25 [==============================] - 0s 4ms/step - loss: 0.0462 - accuracy: 0.9458 - val_loss: 0.0656 - val_accuracy: 0.9150\n",
            "Epoch 71/200\n",
            "25/25 [==============================] - 0s 4ms/step - loss: 0.0540 - accuracy: 0.9250 - val_loss: 0.0459 - val_accuracy: 0.9400\n",
            "Epoch 72/200\n",
            "25/25 [==============================] - 0s 4ms/step - loss: 0.0390 - accuracy: 0.9657 - val_loss: 0.0525 - val_accuracy: 0.9200\n",
            "Epoch 73/200\n",
            "25/25 [==============================] - 0s 4ms/step - loss: 0.0385 - accuracy: 0.9642 - val_loss: 0.0504 - val_accuracy: 0.9200\n",
            "Epoch 74/200\n",
            "25/25 [==============================] - 0s 3ms/step - loss: 0.0365 - accuracy: 0.9602 - val_loss: 0.0452 - val_accuracy: 0.9400\n",
            "Epoch 75/200\n",
            "25/25 [==============================] - 0s 3ms/step - loss: 0.0408 - accuracy: 0.9462 - val_loss: 0.0454 - val_accuracy: 0.9400\n",
            "Epoch 76/200\n",
            "25/25 [==============================] - 0s 3ms/step - loss: 0.0363 - accuracy: 0.9588 - val_loss: 0.0517 - val_accuracy: 0.9200\n",
            "Epoch 77/200\n",
            "25/25 [==============================] - 0s 3ms/step - loss: 0.0428 - accuracy: 0.9473 - val_loss: 0.0532 - val_accuracy: 0.9150\n",
            "Epoch 78/200\n",
            "25/25 [==============================] - 0s 3ms/step - loss: 0.0420 - accuracy: 0.9449 - val_loss: 0.0421 - val_accuracy: 0.9400\n",
            "Epoch 79/200\n",
            "25/25 [==============================] - 0s 3ms/step - loss: 0.0368 - accuracy: 0.9650 - val_loss: 0.0445 - val_accuracy: 0.9350\n",
            "Epoch 80/200\n",
            "25/25 [==============================] - 0s 3ms/step - loss: 0.0407 - accuracy: 0.9444 - val_loss: 0.0435 - val_accuracy: 0.9400\n",
            "Epoch 81/200\n",
            "25/25 [==============================] - 0s 4ms/step - loss: 0.0374 - accuracy: 0.9614 - val_loss: 0.0558 - val_accuracy: 0.9250\n",
            "Epoch 82/200\n",
            "25/25 [==============================] - 0s 3ms/step - loss: 0.0408 - accuracy: 0.9573 - val_loss: 0.0475 - val_accuracy: 0.9400\n",
            "Epoch 83/200\n",
            "25/25 [==============================] - 0s 3ms/step - loss: 0.0407 - accuracy: 0.9542 - val_loss: 0.0449 - val_accuracy: 0.9450\n",
            "Epoch 84/200\n",
            "25/25 [==============================] - 0s 3ms/step - loss: 0.0406 - accuracy: 0.9481 - val_loss: 0.0403 - val_accuracy: 0.9450\n",
            "Epoch 85/200\n",
            "25/25 [==============================] - 0s 3ms/step - loss: 0.0361 - accuracy: 0.9597 - val_loss: 0.0577 - val_accuracy: 0.9100\n",
            "Epoch 86/200\n",
            "25/25 [==============================] - 0s 4ms/step - loss: 0.0397 - accuracy: 0.9505 - val_loss: 0.0414 - val_accuracy: 0.9600\n",
            "Epoch 87/200\n",
            "25/25 [==============================] - 0s 4ms/step - loss: 0.0387 - accuracy: 0.9533 - val_loss: 0.0513 - val_accuracy: 0.9250\n",
            "Epoch 88/200\n",
            "25/25 [==============================] - 0s 3ms/step - loss: 0.0338 - accuracy: 0.9671 - val_loss: 0.0413 - val_accuracy: 0.9550\n",
            "Epoch 89/200\n",
            "25/25 [==============================] - 0s 3ms/step - loss: 0.0380 - accuracy: 0.9593 - val_loss: 0.0417 - val_accuracy: 0.9600\n",
            "Epoch 90/200\n",
            "25/25 [==============================] - 0s 3ms/step - loss: 0.0373 - accuracy: 0.9572 - val_loss: 0.0391 - val_accuracy: 0.9550\n",
            "Epoch 91/200\n",
            "25/25 [==============================] - 0s 3ms/step - loss: 0.0364 - accuracy: 0.9575 - val_loss: 0.0418 - val_accuracy: 0.9600\n",
            "Epoch 92/200\n",
            "25/25 [==============================] - 0s 3ms/step - loss: 0.0324 - accuracy: 0.9653 - val_loss: 0.0391 - val_accuracy: 0.9450\n",
            "Epoch 93/200\n",
            "25/25 [==============================] - 0s 3ms/step - loss: 0.0342 - accuracy: 0.9640 - val_loss: 0.0537 - val_accuracy: 0.9100\n",
            "Epoch 94/200\n",
            "25/25 [==============================] - 0s 3ms/step - loss: 0.0389 - accuracy: 0.9457 - val_loss: 0.0424 - val_accuracy: 0.9400\n",
            "Epoch 95/200\n",
            "25/25 [==============================] - 0s 3ms/step - loss: 0.0384 - accuracy: 0.9486 - val_loss: 0.0405 - val_accuracy: 0.9500\n",
            "Epoch 96/200\n",
            "25/25 [==============================] - 0s 3ms/step - loss: 0.0393 - accuracy: 0.9517 - val_loss: 0.0423 - val_accuracy: 0.9400\n",
            "Epoch 97/200\n",
            "25/25 [==============================] - 0s 3ms/step - loss: 0.0435 - accuracy: 0.9353 - val_loss: 0.0429 - val_accuracy: 0.9350\n",
            "Epoch 98/200\n",
            "25/25 [==============================] - 0s 4ms/step - loss: 0.0352 - accuracy: 0.9607 - val_loss: 0.0527 - val_accuracy: 0.9350\n",
            "Epoch 99/200\n",
            "25/25 [==============================] - 0s 3ms/step - loss: 0.0414 - accuracy: 0.9378 - val_loss: 0.0460 - val_accuracy: 0.9250\n",
            "Epoch 100/200\n",
            "25/25 [==============================] - 0s 3ms/step - loss: 0.0330 - accuracy: 0.9528 - val_loss: 0.0430 - val_accuracy: 0.9450\n",
            "Epoch 101/200\n",
            "25/25 [==============================] - 0s 3ms/step - loss: 0.0308 - accuracy: 0.9653 - val_loss: 0.0460 - val_accuracy: 0.9350\n",
            "Epoch 102/200\n",
            "25/25 [==============================] - 0s 3ms/step - loss: 0.0392 - accuracy: 0.9450 - val_loss: 0.0520 - val_accuracy: 0.9150\n",
            "Epoch 103/200\n",
            "25/25 [==============================] - 0s 3ms/step - loss: 0.0329 - accuracy: 0.9614 - val_loss: 0.0421 - val_accuracy: 0.9400\n",
            "Epoch 104/200\n",
            "25/25 [==============================] - 0s 3ms/step - loss: 0.0334 - accuracy: 0.9598 - val_loss: 0.0361 - val_accuracy: 0.9500\n",
            "Epoch 105/200\n",
            "25/25 [==============================] - 0s 3ms/step - loss: 0.0398 - accuracy: 0.9510 - val_loss: 0.0370 - val_accuracy: 0.9600\n",
            "Epoch 106/200\n",
            "25/25 [==============================] - 0s 3ms/step - loss: 0.0333 - accuracy: 0.9681 - val_loss: 0.0365 - val_accuracy: 0.9500\n",
            "Epoch 107/200\n",
            "25/25 [==============================] - 0s 3ms/step - loss: 0.0337 - accuracy: 0.9613 - val_loss: 0.0419 - val_accuracy: 0.9400\n",
            "Epoch 108/200\n",
            "25/25 [==============================] - 0s 3ms/step - loss: 0.0341 - accuracy: 0.9603 - val_loss: 0.0454 - val_accuracy: 0.9450\n",
            "Epoch 109/200\n",
            "25/25 [==============================] - 0s 4ms/step - loss: 0.0385 - accuracy: 0.9388 - val_loss: 0.0451 - val_accuracy: 0.9400\n",
            "Epoch 110/200\n",
            "25/25 [==============================] - 0s 3ms/step - loss: 0.0331 - accuracy: 0.9636 - val_loss: 0.0418 - val_accuracy: 0.9350\n",
            "Epoch 111/200\n",
            "25/25 [==============================] - 0s 3ms/step - loss: 0.0330 - accuracy: 0.9615 - val_loss: 0.0441 - val_accuracy: 0.9450\n",
            "Epoch 112/200\n",
            "25/25 [==============================] - 0s 3ms/step - loss: 0.0322 - accuracy: 0.9659 - val_loss: 0.0352 - val_accuracy: 0.9600\n",
            "Epoch 113/200\n",
            "25/25 [==============================] - 0s 4ms/step - loss: 0.0333 - accuracy: 0.9614 - val_loss: 0.0495 - val_accuracy: 0.9250\n",
            "Epoch 114/200\n",
            "25/25 [==============================] - 0s 3ms/step - loss: 0.0355 - accuracy: 0.9636 - val_loss: 0.0369 - val_accuracy: 0.9450\n",
            "Epoch 115/200\n",
            "25/25 [==============================] - 0s 3ms/step - loss: 0.0315 - accuracy: 0.9616 - val_loss: 0.0394 - val_accuracy: 0.9350\n",
            "Epoch 116/200\n",
            "25/25 [==============================] - 0s 3ms/step - loss: 0.0290 - accuracy: 0.9675 - val_loss: 0.0342 - val_accuracy: 0.9600\n",
            "Epoch 117/200\n",
            "25/25 [==============================] - 0s 4ms/step - loss: 0.0280 - accuracy: 0.9669 - val_loss: 0.0354 - val_accuracy: 0.9600\n",
            "Epoch 118/200\n",
            "25/25 [==============================] - 0s 3ms/step - loss: 0.0303 - accuracy: 0.9707 - val_loss: 0.0390 - val_accuracy: 0.9450\n",
            "Epoch 119/200\n",
            "25/25 [==============================] - 0s 3ms/step - loss: 0.0339 - accuracy: 0.9522 - val_loss: 0.0353 - val_accuracy: 0.9550\n",
            "Epoch 120/200\n",
            "25/25 [==============================] - 0s 3ms/step - loss: 0.0250 - accuracy: 0.9627 - val_loss: 0.0338 - val_accuracy: 0.9600\n",
            "Epoch 121/200\n",
            "25/25 [==============================] - 0s 4ms/step - loss: 0.0334 - accuracy: 0.9533 - val_loss: 0.0324 - val_accuracy: 0.9600\n",
            "Epoch 122/200\n",
            "25/25 [==============================] - 0s 3ms/step - loss: 0.0272 - accuracy: 0.9685 - val_loss: 0.0359 - val_accuracy: 0.9600\n",
            "Epoch 123/200\n",
            "25/25 [==============================] - 0s 3ms/step - loss: 0.0267 - accuracy: 0.9778 - val_loss: 0.0345 - val_accuracy: 0.9650\n",
            "Epoch 124/200\n",
            "25/25 [==============================] - 0s 3ms/step - loss: 0.0311 - accuracy: 0.9692 - val_loss: 0.0385 - val_accuracy: 0.9450\n",
            "Epoch 125/200\n",
            "25/25 [==============================] - 0s 3ms/step - loss: 0.0312 - accuracy: 0.9673 - val_loss: 0.0358 - val_accuracy: 0.9600\n",
            "Epoch 126/200\n",
            "25/25 [==============================] - 0s 3ms/step - loss: 0.0297 - accuracy: 0.9679 - val_loss: 0.0326 - val_accuracy: 0.9650\n",
            "Epoch 127/200\n",
            "25/25 [==============================] - 0s 3ms/step - loss: 0.0286 - accuracy: 0.9627 - val_loss: 0.0349 - val_accuracy: 0.9500\n",
            "Epoch 128/200\n",
            "25/25 [==============================] - 0s 4ms/step - loss: 0.0294 - accuracy: 0.9646 - val_loss: 0.0309 - val_accuracy: 0.9650\n",
            "Epoch 129/200\n",
            "25/25 [==============================] - 0s 3ms/step - loss: 0.0296 - accuracy: 0.9770 - val_loss: 0.0330 - val_accuracy: 0.9600\n",
            "Epoch 130/200\n",
            "25/25 [==============================] - 0s 3ms/step - loss: 0.0272 - accuracy: 0.9642 - val_loss: 0.0447 - val_accuracy: 0.9250\n",
            "Epoch 131/200\n",
            "25/25 [==============================] - 0s 3ms/step - loss: 0.0249 - accuracy: 0.9686 - val_loss: 0.0310 - val_accuracy: 0.9700\n",
            "Epoch 132/200\n",
            "25/25 [==============================] - 0s 4ms/step - loss: 0.0334 - accuracy: 0.9580 - val_loss: 0.0384 - val_accuracy: 0.9500\n",
            "Epoch 133/200\n",
            "25/25 [==============================] - 0s 3ms/step - loss: 0.0304 - accuracy: 0.9703 - val_loss: 0.0329 - val_accuracy: 0.9650\n",
            "Epoch 134/200\n",
            "25/25 [==============================] - 0s 3ms/step - loss: 0.0269 - accuracy: 0.9660 - val_loss: 0.0312 - val_accuracy: 0.9500\n",
            "Epoch 135/200\n",
            "25/25 [==============================] - 0s 3ms/step - loss: 0.0291 - accuracy: 0.9614 - val_loss: 0.0371 - val_accuracy: 0.9500\n",
            "Epoch 136/200\n",
            "25/25 [==============================] - 0s 3ms/step - loss: 0.0304 - accuracy: 0.9556 - val_loss: 0.0422 - val_accuracy: 0.9450\n",
            "Epoch 137/200\n",
            "25/25 [==============================] - 0s 4ms/step - loss: 0.0257 - accuracy: 0.9664 - val_loss: 0.0555 - val_accuracy: 0.9100\n",
            "Epoch 138/200\n",
            "25/25 [==============================] - 0s 3ms/step - loss: 0.0335 - accuracy: 0.9558 - val_loss: 0.0360 - val_accuracy: 0.9550\n",
            "Epoch 139/200\n",
            "25/25 [==============================] - 0s 4ms/step - loss: 0.0253 - accuracy: 0.9700 - val_loss: 0.0358 - val_accuracy: 0.9500\n",
            "Epoch 140/200\n",
            "25/25 [==============================] - 0s 4ms/step - loss: 0.0291 - accuracy: 0.9576 - val_loss: 0.0373 - val_accuracy: 0.9550\n",
            "Epoch 141/200\n",
            "25/25 [==============================] - 0s 3ms/step - loss: 0.0305 - accuracy: 0.9635 - val_loss: 0.0360 - val_accuracy: 0.9500\n",
            "Epoch 142/200\n",
            "25/25 [==============================] - 0s 3ms/step - loss: 0.0316 - accuracy: 0.9567 - val_loss: 0.0353 - val_accuracy: 0.9500\n",
            "Epoch 143/200\n",
            "25/25 [==============================] - 0s 4ms/step - loss: 0.0234 - accuracy: 0.9740 - val_loss: 0.0285 - val_accuracy: 0.9650\n",
            "Epoch 144/200\n",
            "25/25 [==============================] - 0s 3ms/step - loss: 0.0257 - accuracy: 0.9809 - val_loss: 0.0319 - val_accuracy: 0.9750\n",
            "Epoch 145/200\n",
            "25/25 [==============================] - 0s 3ms/step - loss: 0.0216 - accuracy: 0.9808 - val_loss: 0.0333 - val_accuracy: 0.9600\n",
            "Epoch 146/200\n",
            "25/25 [==============================] - 0s 4ms/step - loss: 0.0263 - accuracy: 0.9708 - val_loss: 0.0465 - val_accuracy: 0.9200\n",
            "Epoch 147/200\n",
            "25/25 [==============================] - 0s 4ms/step - loss: 0.0302 - accuracy: 0.9602 - val_loss: 0.0508 - val_accuracy: 0.9250\n",
            "Epoch 148/200\n",
            "25/25 [==============================] - 0s 3ms/step - loss: 0.0207 - accuracy: 0.9768 - val_loss: 0.0318 - val_accuracy: 0.9650\n",
            "Epoch 149/200\n",
            "25/25 [==============================] - 0s 3ms/step - loss: 0.0243 - accuracy: 0.9739 - val_loss: 0.0299 - val_accuracy: 0.9650\n",
            "Epoch 150/200\n",
            "25/25 [==============================] - 0s 3ms/step - loss: 0.0274 - accuracy: 0.9692 - val_loss: 0.0306 - val_accuracy: 0.9700\n",
            "Epoch 151/200\n",
            "25/25 [==============================] - 0s 4ms/step - loss: 0.0221 - accuracy: 0.9836 - val_loss: 0.0347 - val_accuracy: 0.9500\n",
            "Epoch 152/200\n",
            "25/25 [==============================] - 0s 3ms/step - loss: 0.0335 - accuracy: 0.9607 - val_loss: 0.0277 - val_accuracy: 0.9800\n",
            "Epoch 153/200\n",
            "25/25 [==============================] - 0s 3ms/step - loss: 0.0242 - accuracy: 0.9800 - val_loss: 0.0401 - val_accuracy: 0.9500\n",
            "Epoch 154/200\n",
            "25/25 [==============================] - 0s 4ms/step - loss: 0.0237 - accuracy: 0.9734 - val_loss: 0.0351 - val_accuracy: 0.9500\n",
            "Epoch 155/200\n",
            "25/25 [==============================] - 0s 4ms/step - loss: 0.0288 - accuracy: 0.9717 - val_loss: 0.0349 - val_accuracy: 0.9550\n",
            "Epoch 156/200\n",
            "25/25 [==============================] - 0s 3ms/step - loss: 0.0209 - accuracy: 0.9803 - val_loss: 0.0331 - val_accuracy: 0.9700\n",
            "Epoch 157/200\n",
            "25/25 [==============================] - 0s 3ms/step - loss: 0.0216 - accuracy: 0.9779 - val_loss: 0.0317 - val_accuracy: 0.9550\n",
            "Epoch 158/200\n",
            "25/25 [==============================] - 0s 3ms/step - loss: 0.0223 - accuracy: 0.9849 - val_loss: 0.0310 - val_accuracy: 0.9550\n",
            "Epoch 159/200\n",
            "25/25 [==============================] - 0s 3ms/step - loss: 0.0219 - accuracy: 0.9774 - val_loss: 0.0355 - val_accuracy: 0.9500\n",
            "Epoch 160/200\n",
            "25/25 [==============================] - 0s 3ms/step - loss: 0.0310 - accuracy: 0.9660 - val_loss: 0.0320 - val_accuracy: 0.9600\n",
            "Epoch 161/200\n",
            "25/25 [==============================] - 0s 4ms/step - loss: 0.0270 - accuracy: 0.9611 - val_loss: 0.0334 - val_accuracy: 0.9350\n",
            "Epoch 162/200\n",
            "25/25 [==============================] - 0s 4ms/step - loss: 0.0240 - accuracy: 0.9689 - val_loss: 0.0287 - val_accuracy: 0.9600\n",
            "Epoch 163/200\n",
            "25/25 [==============================] - 0s 3ms/step - loss: 0.0306 - accuracy: 0.9685 - val_loss: 0.0335 - val_accuracy: 0.9500\n",
            "Epoch 164/200\n",
            "25/25 [==============================] - 0s 4ms/step - loss: 0.0221 - accuracy: 0.9772 - val_loss: 0.0296 - val_accuracy: 0.9650\n",
            "Epoch 165/200\n",
            "25/25 [==============================] - 0s 4ms/step - loss: 0.0199 - accuracy: 0.9888 - val_loss: 0.0299 - val_accuracy: 0.9700\n",
            "Epoch 166/200\n",
            "25/25 [==============================] - 0s 4ms/step - loss: 0.0229 - accuracy: 0.9724 - val_loss: 0.0341 - val_accuracy: 0.9600\n",
            "Epoch 167/200\n",
            "25/25 [==============================] - 0s 3ms/step - loss: 0.0238 - accuracy: 0.9742 - val_loss: 0.0341 - val_accuracy: 0.9650\n",
            "Epoch 168/200\n",
            "25/25 [==============================] - 0s 3ms/step - loss: 0.0217 - accuracy: 0.9817 - val_loss: 0.0276 - val_accuracy: 0.9800\n",
            "Epoch 169/200\n",
            "25/25 [==============================] - 0s 4ms/step - loss: 0.0266 - accuracy: 0.9634 - val_loss: 0.0366 - val_accuracy: 0.9550\n",
            "Epoch 170/200\n",
            "25/25 [==============================] - 0s 3ms/step - loss: 0.0314 - accuracy: 0.9539 - val_loss: 0.0480 - val_accuracy: 0.9300\n",
            "Epoch 171/200\n",
            "25/25 [==============================] - 0s 3ms/step - loss: 0.0278 - accuracy: 0.9648 - val_loss: 0.0351 - val_accuracy: 0.9450\n",
            "Epoch 172/200\n",
            "25/25 [==============================] - 0s 3ms/step - loss: 0.0237 - accuracy: 0.9672 - val_loss: 0.0274 - val_accuracy: 0.9700\n",
            "Epoch 173/200\n",
            "25/25 [==============================] - 0s 3ms/step - loss: 0.0201 - accuracy: 0.9815 - val_loss: 0.0259 - val_accuracy: 0.9850\n",
            "Epoch 174/200\n",
            "25/25 [==============================] - 0s 3ms/step - loss: 0.0202 - accuracy: 0.9829 - val_loss: 0.0320 - val_accuracy: 0.9500\n",
            "Epoch 175/200\n",
            "25/25 [==============================] - 0s 4ms/step - loss: 0.0234 - accuracy: 0.9670 - val_loss: 0.0322 - val_accuracy: 0.9550\n",
            "Epoch 176/200\n",
            "25/25 [==============================] - 0s 4ms/step - loss: 0.0223 - accuracy: 0.9725 - val_loss: 0.0292 - val_accuracy: 0.9700\n",
            "Epoch 177/200\n",
            "25/25 [==============================] - 0s 3ms/step - loss: 0.0226 - accuracy: 0.9664 - val_loss: 0.0327 - val_accuracy: 0.9550\n",
            "Epoch 178/200\n",
            "25/25 [==============================] - 0s 4ms/step - loss: 0.0248 - accuracy: 0.9724 - val_loss: 0.0270 - val_accuracy: 0.9750\n",
            "Epoch 179/200\n",
            "25/25 [==============================] - 0s 4ms/step - loss: 0.0224 - accuracy: 0.9861 - val_loss: 0.0334 - val_accuracy: 0.9550\n",
            "Epoch 180/200\n",
            "25/25 [==============================] - 0s 3ms/step - loss: 0.0233 - accuracy: 0.9690 - val_loss: 0.0361 - val_accuracy: 0.9550\n",
            "Epoch 181/200\n",
            "25/25 [==============================] - 0s 3ms/step - loss: 0.0249 - accuracy: 0.9652 - val_loss: 0.0256 - val_accuracy: 0.9800\n",
            "Epoch 182/200\n",
            "25/25 [==============================] - 0s 4ms/step - loss: 0.0211 - accuracy: 0.9768 - val_loss: 0.0347 - val_accuracy: 0.9500\n",
            "Epoch 183/200\n",
            "25/25 [==============================] - 0s 4ms/step - loss: 0.0201 - accuracy: 0.9853 - val_loss: 0.0297 - val_accuracy: 0.9700\n",
            "Epoch 184/200\n",
            "25/25 [==============================] - 0s 3ms/step - loss: 0.0261 - accuracy: 0.9658 - val_loss: 0.0294 - val_accuracy: 0.9750\n",
            "Epoch 185/200\n",
            "25/25 [==============================] - 0s 3ms/step - loss: 0.0211 - accuracy: 0.9774 - val_loss: 0.0335 - val_accuracy: 0.9550\n",
            "Epoch 186/200\n",
            "25/25 [==============================] - 0s 4ms/step - loss: 0.0282 - accuracy: 0.9694 - val_loss: 0.0297 - val_accuracy: 0.9700\n",
            "Epoch 187/200\n",
            "25/25 [==============================] - 0s 4ms/step - loss: 0.0243 - accuracy: 0.9757 - val_loss: 0.0352 - val_accuracy: 0.9600\n",
            "Epoch 188/200\n",
            "25/25 [==============================] - 0s 3ms/step - loss: 0.0224 - accuracy: 0.9768 - val_loss: 0.0350 - val_accuracy: 0.9550\n",
            "Epoch 189/200\n",
            "25/25 [==============================] - 0s 3ms/step - loss: 0.0205 - accuracy: 0.9730 - val_loss: 0.0400 - val_accuracy: 0.9350\n",
            "Epoch 190/200\n",
            "25/25 [==============================] - 0s 3ms/step - loss: 0.0226 - accuracy: 0.9717 - val_loss: 0.0319 - val_accuracy: 0.9550\n",
            "Epoch 191/200\n",
            "25/25 [==============================] - 0s 4ms/step - loss: 0.0211 - accuracy: 0.9837 - val_loss: 0.0312 - val_accuracy: 0.9600\n",
            "Epoch 192/200\n",
            "25/25 [==============================] - 0s 3ms/step - loss: 0.0236 - accuracy: 0.9742 - val_loss: 0.0300 - val_accuracy: 0.9550\n",
            "Epoch 193/200\n",
            "25/25 [==============================] - 0s 3ms/step - loss: 0.0246 - accuracy: 0.9697 - val_loss: 0.0282 - val_accuracy: 0.9700\n",
            "Epoch 194/200\n",
            "25/25 [==============================] - 0s 4ms/step - loss: 0.0210 - accuracy: 0.9767 - val_loss: 0.0275 - val_accuracy: 0.9650\n",
            "Epoch 195/200\n",
            "25/25 [==============================] - 0s 3ms/step - loss: 0.0237 - accuracy: 0.9734 - val_loss: 0.0266 - val_accuracy: 0.9700\n",
            "Epoch 196/200\n",
            "25/25 [==============================] - 0s 3ms/step - loss: 0.0232 - accuracy: 0.9733 - val_loss: 0.0322 - val_accuracy: 0.9550\n",
            "Epoch 197/200\n",
            "25/25 [==============================] - 0s 4ms/step - loss: 0.0271 - accuracy: 0.9654 - val_loss: 0.0345 - val_accuracy: 0.9450\n",
            "Epoch 198/200\n",
            "25/25 [==============================] - 0s 4ms/step - loss: 0.0205 - accuracy: 0.9771 - val_loss: 0.0302 - val_accuracy: 0.9700\n",
            "Epoch 199/200\n",
            "25/25 [==============================] - 0s 3ms/step - loss: 0.0223 - accuracy: 0.9847 - val_loss: 0.0286 - val_accuracy: 0.9550\n",
            "Epoch 200/200\n",
            "25/25 [==============================] - 0s 3ms/step - loss: 0.0171 - accuracy: 0.9846 - val_loss: 0.0327 - val_accuracy: 0.9550\n"
          ],
          "name": "stdout"
        }
      ]
    },
    {
      "cell_type": "code",
      "metadata": {
        "colab": {
          "base_uri": "https://localhost:8080/",
          "height": 312
        },
        "id": "8lx_E9M_eDBd",
        "outputId": "9534a348-18b0-4d72-92c2-107d99b85373"
      },
      "source": [
        "lossCurve = history.history[\"loss\"]\n",
        "plt.plot(lossCurve, label=\"Train\")\n",
        "# plt.legend(loc='upper right')\n",
        "plt.title(\"Loss function\")\n",
        "plt.xlabel(\"epoch number\")"
      ],
      "execution_count": 9,
      "outputs": [
        {
          "output_type": "execute_result",
          "data": {
            "text/plain": [
              "Text(0.5, 0, 'epoch number')"
            ]
          },
          "metadata": {
            "tags": []
          },
          "execution_count": 9
        },
        {
          "output_type": "display_data",
          "data": {
            "image/png": "[encoded data removed]",
            "text/plain": [
              "<Figure size 432x288 with 1 Axes>"
            ]
          },
          "metadata": {
            "tags": [],
            "needs_background": "light"
          }
        }
      ]
    },
    {
      "cell_type": "code",
      "metadata": {
        "colab": {
          "base_uri": "https://localhost:8080/",
          "height": 297
        },
        "id": "RA_hDmUGeIwI",
        "outputId": "7e2d00c5-06f4-4ac2-99c4-92a71664b185"
      },
      "source": [
        "accuracyCurve = history.history[\"accuracy\"]\n",
        "plt.plot(accuracyCurve, label=\"Accuracy\")\n",
        "# plt.legend(loc='upper right')\n",
        "plt.ylabel(\"accuracy\")\n",
        "plt.xlabel(\"epoch number\")"
      ],
      "execution_count": 10,
      "outputs": [
        {
          "output_type": "execute_result",
          "data": {
            "text/plain": [
              "Text(0.5, 0, 'epoch number')"
            ]
          },
          "metadata": {
            "tags": []
          },
          "execution_count": 10
        },
        {
          "output_type": "display_data",
          "data": {
            "image/png": "[encoded data removed]",
            "text/plain": [
              "<Figure size 432x288 with 1 Axes>"
            ]
          },
          "metadata": {
            "tags": [],
            "needs_background": "light"
          }
        }
      ]
    },
    {
      "cell_type": "markdown",
      "metadata": {
        "id": "0lpaJvdbeNtj"
      },
      "source": [
        "Şimdi eğitimi tamamlanmış çok katmanlı yapay sinir ağımızı test edelim."
      ]
    },
    {
      "cell_type": "code",
      "metadata": {
        "colab": {
          "base_uri": "https://localhost:8080/",
          "height": 312
        },
        "id": "yy1iLy4meOfQ",
        "outputId": "d985690b-de29-41ac-e939-ca58ba472e55"
      },
      "source": [
        "y = model.predict(x).round()\n",
        "plt.scatter(x[:,0],x[:,1], marker='.', color='b')\n",
        "# plt.legend(loc='upper right')\n",
        "plt.title(\"Generated 2d data\")\n",
        "plt.xlabel(\"x1\")\n",
        "plt.ylabel(\"x2\")\n",
        "\n",
        "for i, label in enumerate(t):\n",
        "  if (label != y[i]):\n",
        "    plt.scatter(x[i,0],x[i,1], marker='o', color='r') # edgecolors='none'\n",
        "plt.title(\"Generated 2d data\")\n",
        "plt.xlabel(\"x1\")\n",
        "plt.ylabel(\"x2\")"
      ],
      "execution_count": 11,
      "outputs": [
        {
          "output_type": "execute_result",
          "data": {
            "text/plain": [
              "Text(0, 0.5, 'x2')"
            ]
          },
          "metadata": {
            "tags": []
          },
          "execution_count": 11
        },
        {
          "output_type": "display_data",
          "data": {
            "image/png": "[encoded data removed]",
            "text/plain": [
              "<Figure size 432x288 with 1 Axes>"
            ]
          },
          "metadata": {
            "tags": [],
            "needs_background": "light"
          }
        }
      ]
    }
  ]
}